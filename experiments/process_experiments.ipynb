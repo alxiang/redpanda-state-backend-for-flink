{
 "cells": [
  {
   "cell_type": "code",
   "execution_count": 28,
   "metadata": {},
   "outputs": [
    {
     "name": "stdout",
     "output_type": "stream",
     "text": [
      "\t\t\t\t JSON Benchmark\n",
      "   Backend  Number of machines  Average Time for job  Standard Deviation\n",
      "3  hashmap                   1                  4487                1340\n",
      "0  rocksdb                   1                  4551                1265\n",
      "5  hashmap                   2                  4013                 942\n",
      "4  rocksdb                   2                  4429                1435\n",
      "2  hashmap                   5                  4762                1611\n",
      "1  rocksdb                   5                  5230                1793 \n",
      "\n",
      "\n",
      "\t\t\t\t Wiki Benchmark\n",
      "   Backend  Number of machines  Average Time for job  Standard Deviation\n",
      "0  hashmap                   1                  1743                 581\n",
      "3  rocksdb                   1                  2712                1662\n",
      "4  hashmap                   2                  1398                 473\n",
      "1  rocksdb                   2                  2728                1705\n",
      "2  hashmap                   5                  1525                 595\n",
      "5  rocksdb                   5                  3599                3450 \n",
      "\n",
      "\n"
     ]
    }
   ],
   "source": [
    "import os\n",
    "import json\n",
    "import numpy as np\n",
    "import pandas as pd\n",
    "\n",
    "directory = \"./2-20-2022\"\n",
    "\n",
    "def get_table_template():\n",
    "    return {\n",
    "        \"Backend\": [],\n",
    "        \"Number of machines\": [],\n",
    "        \"Average Time for job\": [],\n",
    "        \"Standard Deviation\": []\n",
    "    }\n",
    "\n",
    "benchmark_tables = {}\n",
    "\n",
    " \n",
    "for filename in os.listdir(directory):\n",
    "    f = os.path.join(directory, filename)\n",
    "    with open(f) as json_file:\n",
    "        data = json.load(json_file)\n",
    "        if len(data) == 0:\n",
    "            continue\n",
    "\n",
    "        benchmark = data[0][\"benchmark\"]\n",
    "        if benchmark not in benchmark_tables:\n",
    "            benchmark_tables[benchmark] = get_table_template()\n",
    "        table = benchmark_tables[benchmark]\n",
    "\n",
    "        table[\"Backend\"].append(data[0][\"backend\"])\n",
    "        table[\"Number of machines\"].append(max([run[\"job\"] for run in data])+1)\n",
    "        times = np.array([run[\"time\"] for run in data])\n",
    "        table[\"Average Time for job\"].append(round(np.average(times)))\n",
    "        table[\"Standard Deviation\"].append(round(np.std(times)))\n",
    "\n",
    "for benchmark in benchmark_tables:\n",
    "    df = pd.DataFrame(benchmark_tables[benchmark])\n",
    "    df = df.sort_values([\"Number of machines\", \"Backend\"], ascending = (True, True))\n",
    "    print(f\"\\t\\t\\t\\t {benchmark} Benchmark\")\n",
    "    print(df, \"\\n\\n\")\n"
   ]
  },
  {
   "cell_type": "code",
   "execution_count": null,
   "metadata": {},
   "outputs": [],
   "source": []
  }
 ],
 "metadata": {
  "kernelspec": {
   "display_name": "Python 3.8.12 64-bit ('deeplearning': conda)",
   "name": "python3812jvsc74a57bd0416ef9c8ff5cf58559a8b1f4251b8f4311cfedb5d0016066b6676e76917bf150"
  },
  "language_info": {
   "codemirror_mode": {
    "name": "ipython",
    "version": 3
   },
   "file_extension": ".py",
   "mimetype": "text/x-python",
   "name": "python",
   "nbconvert_exporter": "python",
   "pygments_lexer": "ipython3",
   "version": "3.8.12"
  },
  "metadata": {
   "interpreter": {
    "hash": "416ef9c8ff5cf58559a8b1f4251b8f4311cfedb5d0016066b6676e76917bf150"
   }
  },
  "orig_nbformat": 2
 },
 "nbformat": 4,
 "nbformat_minor": 2
}