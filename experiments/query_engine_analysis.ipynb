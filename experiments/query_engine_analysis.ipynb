{
 "cells": [
  {
   "cell_type": "code",
   "execution_count": 1,
   "metadata": {},
   "outputs": [],
   "source": [
    "import os\n",
    "import json\n",
    "import numpy as np\n",
    "import pandas as pd\n",
    "pd.set_option('display.expand_frame_repr', False)\n",
    "from functools import reduce\n",
    "import operator\n",
    "import matplotlib.pyplot as plt\n"
   ]
  },
  {
   "cell_type": "code",
   "execution_count": 2,
   "metadata": {},
   "outputs": [
    {
     "name": "stdout",
     "output_type": "stream",
     "text": [
      "02-20-2022-19_31_36_hashmap_Wiki.json\n",
      "02-20-2022-19_34_01_hashmap_Wiki.json\n",
      "02-20-2022-19_36_21_hashmap_Wiki.json\n",
      "02-20-2022-19_56_33_rocksdb_Wiki.json\n",
      "02-20-2022-19_59_03_rocksdb_Wiki.json\n",
      "02-20-2022-20_02_14_rocksdb_Wiki.json\n",
      "02-20-2022-20_23_05_redpanda_Wiki.json\n",
      "02-20-2022-20_56_21_redpanda_Wiki.json\n",
      "02-22-2022-19_32_23_redpanda_Wiki.json\n",
      "02-22-2022-19_43_20_redpanda_Wiki.json\n",
      "06-15-2022-23_14_45_redpanda_Wiki.json\n",
      "06-15-2022-23_18_09_redpanda_Wiki.json\n",
      "06-15-2022-23_24_24_redpanda_Wiki.json\n",
      "06-16-2022-00_10_41_redpanda_Wiki.json\n",
      "100_06-16-2022-01_38_10_redpanda_Wiki.json\n",
      "100_10x1_06-22-2022-00_54_34_redpanda_Wiki.json\n",
      "100_1x1_06-22-2022-00_31_45_redpanda_Wiki.json\n",
      "100_3x1_06-22-2022-00_37_04_redpanda_Wiki.json\n",
      "100_5x1_06-22-2022-00_44_49_redpanda_Wiki.json\n",
      "10_06-16-2022-02_10_57_redpanda_Wiki.json\n",
      "500_06-16-2022-03_00_22_redpanda_Wiki.json\n",
      "__init__.py\n",
      "process_experiments.ipynb\n",
      "query_engine_analysis.ipynb\n",
      "run_experiments.py\n",
      "\u001b[34mutils\u001b[m\u001b[m\n"
     ]
    }
   ],
   "source": [
    "!ls"
   ]
  },
  {
   "cell_type": "code",
   "execution_count": 3,
   "metadata": {},
   "outputs": [],
   "source": [
    "results = {\n",
    "    \"10ms\": \"10_06-16-2022-02_10_57_redpanda_Wiki.json\",\n",
    "    \"100ms\": \"100_06-16-2022-01_38_10_redpanda_Wiki.json\",\n",
    "    \"500ms\": \"500_06-16-2022-03_00_22_redpanda_Wiki.json\",\n",
    "    \"100ms, 1 producer\": \"100_1x1_06-22-2022-00_31_45_redpanda_Wiki.json\",\n",
    "    \"100ms, 3 producers\": \"100_3x1_06-22-2022-00_37_04_redpanda_Wiki.json\",\n",
    "    \"100ms, 5 producers\": \"100_5x1_06-22-2022-00_44_49_redpanda_Wiki.json\",\n",
    "    \"100ms, 10 producers\": \"100_10x1_06-22-2022-00_54_34_redpanda_Wiki.json\"    \n",
    "#     \"1000ms\": \"06-16-2022-00_10_41_redpanda_Wiki.json\"\n",
    "}\n",
    "\n",
    "def get_runtimes(filename):\n",
    "    runtimes = []\n",
    "    with open(filename) as json_file:\n",
    "        data = json.load(json_file)\n",
    "        for data_dict in data:\n",
    "            if(\"[FLINK_QUESTDB_RUNTIME]\" in data_dict):\n",
    "                runtimes.append(data_dict[\"[FLINK_QUESTDB_RUNTIME]\"][0][-1])\n",
    "                \n",
    "    return runtimes\n",
    "    \n",
    "\n",
    "def get_snapshot_times(filename):\n",
    "    \n",
    "    snapshot_times = []\n",
    "\n",
    "    with open(filename) as json_file:\n",
    "        data = json.load(json_file)\n",
    "        \n",
    "        for data_dict in data:\n",
    "            if(\"[SNAPSHOT_TIME]\" in data_dict):\n",
    "                for x in data_dict[\"[SNAPSHOT_TIME]\"][0]:\n",
    "                    snapshot_times.append(x)\n",
    "        \n",
    "#     print(len(snapshot_times))\n",
    "    return snapshot_times"
   ]
  },
  {
   "cell_type": "code",
   "execution_count": 5,
   "metadata": {},
   "outputs": [
    {
     "name": "stdout",
     "output_type": "stream",
     "text": [
      "32829.9\n",
      "24696.7\n",
      "30766.7\n",
      "6783.0\n",
      "19327.0\n",
      "31896.5\n",
      "70159.1\n"
     ]
    }
   ],
   "source": [
    "print(np.mean(get_runtimes(results[\"10ms\"])))\n",
    "print(np.mean(get_runtimes(results[\"100ms\"])))\n",
    "print(np.mean(get_runtimes(results[\"500ms\"])))\n",
    "print(np.mean(get_runtimes(results[\"100ms, 1 producer\"])))\n",
    "print(np.mean(get_runtimes(results[\"100ms, 3 producers\"])))\n",
    "print(np.mean(get_runtimes(results[\"100ms, 5 producers\"])))\n",
    "print(np.mean(get_runtimes(results[\"100ms, 10 producers\"])))"
   ]
  },
  {
   "cell_type": "code",
   "execution_count": 6,
   "metadata": {},
   "outputs": [
    {
     "name": "stdout",
     "output_type": "stream",
     "text": [
      "10ms 0.044187 0.072121 0.091127 0.459719\n",
      "100ms 0.038779 0.062834 0.080237 0.297456\n",
      "500ms 0.055122 0.088828 0.10698 0.310118\n",
      "100ms, 1 producer 0.038916 0.062072 0.072344 0.105903\n",
      "100ms, 3 producers 0.04696 0.063486 0.071206 0.095453\n",
      "100ms, 5 producers 0.045544 0.06628 0.074943 0.106272\n",
      "100ms, 10 producers 0.031502 0.057895 0.066849 0.094985\n"
     ]
    },
    {
     "data": {
      "image/png": "[encoded data removed]",
      "text/plain": [
       "<Figure size 640x480 with 1 Axes>"
      ]
     },
     "metadata": {
      "needs_background": "light"
     },
     "output_type": "display_data"
    }
   ],
   "source": [
    "from matplotlib.pyplot import figure\n",
    "\n",
    "figure(figsize=(8, 6), dpi=80)\n",
    "\n",
    "for label, filename in results.items():\n",
    "    snapshot_times = np.array(get_snapshot_times(filename)).ravel()\n",
    "    \n",
    "#     print(snapshot_times)\n",
    "    \n",
    "    N = len(snapshot_times)\n",
    "    Z = np.sort(np.array(snapshot_times) / 1e6) # to ms\n",
    "#     print(label, Z)\n",
    "    \n",
    "    # calculate the proportional values of samples\n",
    "    p = 1. * np.arange(len(Z)) / (len(Z) - 1)\n",
    "#     print(np.arange(len(Z)))\n",
    "\n",
    "    print(label, Z[p > 0.5][0], Z[p > 0.9][0], Z[p > 0.95][0], Z[p > 0.99][0])\n",
    "\n",
    "    plt.plot(Z, p, label = label)\n",
    "    \n",
    "plt.legend()\n",
    "plt.show()"
   ]
  },
  {
   "cell_type": "code",
   "execution_count": 46,
   "metadata": {},
   "outputs": [],
   "source": [
    "\n",
    "# method 1\n",
    "\n",
    "\n"
   ]
  },
  {
   "cell_type": "code",
   "execution_count": null,
   "metadata": {},
   "outputs": [],
   "source": [
    "\n",
    "\n",
    "\n",
    "\n",
    " \n",
    "for filename in os.listdir(directory):\n",
    "    f = os.path.join(directory, filename)\n",
    "    with open(f) as json_file:\n",
    "        data = json.load(json_file)\n",
    "        if len(data) == 0:\n",
    "            continue\n",
    "\n",
    "        benchmark = data[0][\"benchmark\"]\n",
    "        if benchmark not in benchmark_tables:\n",
    "            benchmark_tables[benchmark] = get_table_template()\n",
    "        table = benchmark_tables[benchmark]\n",
    "\n",
    "        table[\"Backend\"].append(data[0][\"backend\"])\n",
    "        table[\"Number of machines\"].append(max([run.get(\"job\", 0) for run in data])+1)\n",
    "\n",
    "        times = np.array([run.get(\"time\", \"\") for run in data if type(run.get(\"time\", \"\")) != type(\"\")]) #Filter errors and latency recordings\n",
    "        table[\"Average Time for job (ms)\"].append(round(np.average(times)))\n",
    "        table[\"Standard Deviation\"].append(round(np.std(times)))\n",
    "\n",
    "        latencies = [run.get(\"latencies\", [[]]) for run in data]\n",
    "        if benchmark == \"Wiki\":\n",
    "            latencies = [list(map(lambda x: x[1:], l)) for l in latencies] #Remove first latency as it is a warmup\n",
    "        latencies = np.array(reduce(operator.concat, reduce(operator.concat, latencies))) #Flatten list of latencies\n",
    "        latencies = latencies[latencies <= 100] #Ignore latencies over 100 ms\n",
    "        table[\"Latency (ms)\"].append(np.average(latencies) if len(latencies)>0 else \"\")\n",
    "\n",
    "for benchmark in benchmark_tables:\n",
    "    df = pd.DataFrame(benchmark_tables[benchmark])\n",
    "    df = df.sort_values([\"Number of machines\", \"Backend\"], ascending = (True, True))\n",
    "    print(f\"\\t\\t       \\t\\t\\t {benchmark} Benchmark\")\n",
    "    print(df, \"\\n\\n\")\n"
   ]
  }
 ],
 "metadata": {
  "kernelspec": {
   "display_name": "Python 3",
   "language": "python",
   "name": "python3"
  },
  "language_info": {
   "codemirror_mode": {
    "name": "ipython",
    "version": 3
   },
   "file_extension": ".py",
   "mimetype": "text/x-python",
   "name": "python",
   "nbconvert_exporter": "python",
   "pygments_lexer": "ipython3",
   "version": "3.8.3"
  }
 },
 "nbformat": 4,
 "nbformat_minor": 4
}
